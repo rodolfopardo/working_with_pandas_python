{
 "cells": [
  {
   "cell_type": "markdown",
   "metadata": {},
   "source": [
    "## Dirección Nacional de Migraciones - Argentina"
   ]
  },
  {
   "cell_type": "markdown",
   "metadata": {},
   "source": [
    "#### Dataset: Residencias otorgadas - 2° trimestre - año 2019"
   ]
  },
  {
   "cell_type": "code",
   "execution_count": 2,
   "metadata": {},
   "outputs": [],
   "source": [
    "#Importamos librerias \n",
    "\n",
    "import pandas as pd\n",
    "import numpy as np"
   ]
  },
  {
   "cell_type": "code",
   "execution_count": 3,
   "metadata": {},
   "outputs": [],
   "source": [
    "residencias_df = pd.read_csv(\"residencias.csv\")"
   ]
  },
  {
   "cell_type": "code",
   "execution_count": 5,
   "metadata": {},
   "outputs": [
    {
     "data": {
      "text/html": [
       "<div>\n",
       "<style scoped>\n",
       "    .dataframe tbody tr th:only-of-type {\n",
       "        vertical-align: middle;\n",
       "    }\n",
       "\n",
       "    .dataframe tbody tr th {\n",
       "        vertical-align: top;\n",
       "    }\n",
       "\n",
       "    .dataframe thead th {\n",
       "        text-align: right;\n",
       "    }\n",
       "</style>\n",
       "<table border=\"1\" class=\"dataframe\">\n",
       "  <thead>\n",
       "    <tr style=\"text-align: right;\">\n",
       "      <th></th>\n",
       "      <th>PROVINCIA</th>\n",
       "      <th>TRANSITORIAS</th>\n",
       "      <th>TEMPORARIAS</th>\n",
       "      <th>PERMANENTES</th>\n",
       "      <th>TOTAL</th>\n",
       "    </tr>\n",
       "  </thead>\n",
       "  <tbody>\n",
       "    <tr>\n",
       "      <th>0</th>\n",
       "      <td>CIUDAD AUTONOMA DE BS AS</td>\n",
       "      <td>2531</td>\n",
       "      <td>13081</td>\n",
       "      <td>8860</td>\n",
       "      <td>24472</td>\n",
       "    </tr>\n",
       "    <tr>\n",
       "      <th>1</th>\n",
       "      <td>BUENOS AIRES</td>\n",
       "      <td>309</td>\n",
       "      <td>5502</td>\n",
       "      <td>4218</td>\n",
       "      <td>10029</td>\n",
       "    </tr>\n",
       "    <tr>\n",
       "      <th>2</th>\n",
       "      <td>CORDOBA</td>\n",
       "      <td>518</td>\n",
       "      <td>764</td>\n",
       "      <td>276</td>\n",
       "      <td>1558</td>\n",
       "    </tr>\n",
       "    <tr>\n",
       "      <th>3</th>\n",
       "      <td>MENDOZA</td>\n",
       "      <td>236</td>\n",
       "      <td>569</td>\n",
       "      <td>337</td>\n",
       "      <td>1142</td>\n",
       "    </tr>\n",
       "    <tr>\n",
       "      <th>4</th>\n",
       "      <td>NEUQUEN</td>\n",
       "      <td>61</td>\n",
       "      <td>649</td>\n",
       "      <td>329</td>\n",
       "      <td>1039</td>\n",
       "    </tr>\n",
       "  </tbody>\n",
       "</table>\n",
       "</div>"
      ],
      "text/plain": [
       "                  PROVINCIA  TRANSITORIAS  TEMPORARIAS  PERMANENTES  TOTAL\n",
       "0  CIUDAD AUTONOMA DE BS AS          2531        13081         8860  24472\n",
       "1              BUENOS AIRES           309         5502         4218  10029\n",
       "2                   CORDOBA           518          764          276   1558\n",
       "3                   MENDOZA           236          569          337   1142\n",
       "4                   NEUQUEN            61          649          329   1039"
      ]
     },
     "execution_count": 5,
     "metadata": {},
     "output_type": "execute_result"
    }
   ],
   "source": [
    "#Comenzamos a explorar la base \n",
    "#Primeros cinco resultados\n",
    "\n",
    "residencias_df.head()"
   ]
  },
  {
   "cell_type": "code",
   "execution_count": 6,
   "metadata": {},
   "outputs": [
    {
     "data": {
      "text/html": [
       "<div>\n",
       "<style scoped>\n",
       "    .dataframe tbody tr th:only-of-type {\n",
       "        vertical-align: middle;\n",
       "    }\n",
       "\n",
       "    .dataframe tbody tr th {\n",
       "        vertical-align: top;\n",
       "    }\n",
       "\n",
       "    .dataframe thead th {\n",
       "        text-align: right;\n",
       "    }\n",
       "</style>\n",
       "<table border=\"1\" class=\"dataframe\">\n",
       "  <thead>\n",
       "    <tr style=\"text-align: right;\">\n",
       "      <th></th>\n",
       "      <th>PROVINCIA</th>\n",
       "      <th>TRANSITORIAS</th>\n",
       "      <th>TEMPORARIAS</th>\n",
       "      <th>PERMANENTES</th>\n",
       "      <th>TOTAL</th>\n",
       "    </tr>\n",
       "  </thead>\n",
       "  <tbody>\n",
       "    <tr>\n",
       "      <th>16</th>\n",
       "      <td>LA RIOJA</td>\n",
       "      <td>8</td>\n",
       "      <td>77</td>\n",
       "      <td>87</td>\n",
       "      <td>172</td>\n",
       "    </tr>\n",
       "    <tr>\n",
       "      <th>17</th>\n",
       "      <td>FORMOSA</td>\n",
       "      <td>2</td>\n",
       "      <td>92</td>\n",
       "      <td>69</td>\n",
       "      <td>163</td>\n",
       "    </tr>\n",
       "    <tr>\n",
       "      <th>18</th>\n",
       "      <td>LA PAMPA</td>\n",
       "      <td>14</td>\n",
       "      <td>87</td>\n",
       "      <td>51</td>\n",
       "      <td>152</td>\n",
       "    </tr>\n",
       "    <tr>\n",
       "      <th>19</th>\n",
       "      <td>SANTA CRUZ</td>\n",
       "      <td>8</td>\n",
       "      <td>51</td>\n",
       "      <td>55</td>\n",
       "      <td>114</td>\n",
       "    </tr>\n",
       "    <tr>\n",
       "      <th>20</th>\n",
       "      <td>SAN LUIS</td>\n",
       "      <td>7</td>\n",
       "      <td>65</td>\n",
       "      <td>39</td>\n",
       "      <td>111</td>\n",
       "    </tr>\n",
       "  </tbody>\n",
       "</table>\n",
       "</div>"
      ],
      "text/plain": [
       "     PROVINCIA  TRANSITORIAS  TEMPORARIAS  PERMANENTES  TOTAL\n",
       "16    LA RIOJA             8           77           87    172\n",
       "17     FORMOSA             2           92           69    163\n",
       "18    LA PAMPA            14           87           51    152\n",
       "19  SANTA CRUZ             8           51           55    114\n",
       "20    SAN LUIS             7           65           39    111"
      ]
     },
     "execution_count": 6,
     "metadata": {},
     "output_type": "execute_result"
    }
   ],
   "source": [
    "#Ultimos 5 resultados \n",
    "\n",
    "residencias_df.tail()"
   ]
  },
  {
   "cell_type": "code",
   "execution_count": 8,
   "metadata": {},
   "outputs": [
    {
     "data": {
      "text/plain": [
       "PROVINCIA       object\n",
       "TRANSITORIAS     int64\n",
       "TEMPORARIAS      int64\n",
       "PERMANENTES      int64\n",
       "TOTAL            int64\n",
       "dtype: object"
      ]
     },
     "execution_count": 8,
     "metadata": {},
     "output_type": "execute_result"
    }
   ],
   "source": [
    "#Tipos de columnas con los respectivos valores que vamos a trabajar\n",
    "\n",
    "residencias_df.dtypes"
   ]
  },
  {
   "cell_type": "code",
   "execution_count": 10,
   "metadata": {},
   "outputs": [
    {
     "data": {
      "text/plain": [
       "Index(['PROVINCIA', 'TRANSITORIAS', 'TEMPORARIAS', 'PERMANENTES', 'TOTAL'], dtype='object')"
      ]
     },
     "execution_count": 10,
     "metadata": {},
     "output_type": "execute_result"
    }
   ],
   "source": [
    "#Columnas \n",
    "\n",
    "residencias_df.columns"
   ]
  },
  {
   "cell_type": "code",
   "execution_count": 13,
   "metadata": {},
   "outputs": [
    {
     "data": {
      "text/plain": [
       "21"
      ]
     },
     "execution_count": 13,
     "metadata": {},
     "output_type": "execute_result"
    }
   ],
   "source": [
    "#Numeros de filas\n",
    "residencias_df.shape[0]"
   ]
  },
  {
   "cell_type": "code",
   "execution_count": 14,
   "metadata": {},
   "outputs": [
    {
     "data": {
      "text/plain": [
       "5"
      ]
     },
     "execution_count": 14,
     "metadata": {},
     "output_type": "execute_result"
    }
   ],
   "source": [
    "#Numeros de columnas \n",
    "residencias_df.shape[1]"
   ]
  },
  {
   "cell_type": "code",
   "execution_count": 16,
   "metadata": {},
   "outputs": [
    {
     "data": {
      "text/html": [
       "<div>\n",
       "<style scoped>\n",
       "    .dataframe tbody tr th:only-of-type {\n",
       "        vertical-align: middle;\n",
       "    }\n",
       "\n",
       "    .dataframe tbody tr th {\n",
       "        vertical-align: top;\n",
       "    }\n",
       "\n",
       "    .dataframe thead th {\n",
       "        text-align: right;\n",
       "    }\n",
       "</style>\n",
       "<table border=\"1\" class=\"dataframe\">\n",
       "  <thead>\n",
       "    <tr style=\"text-align: right;\">\n",
       "      <th></th>\n",
       "      <th>TRANSITORIAS</th>\n",
       "      <th>TEMPORARIAS</th>\n",
       "      <th>PERMANENTES</th>\n",
       "      <th>TOTAL</th>\n",
       "    </tr>\n",
       "  </thead>\n",
       "  <tbody>\n",
       "    <tr>\n",
       "      <th>count</th>\n",
       "      <td>21.000000</td>\n",
       "      <td>21.000000</td>\n",
       "      <td>21.000000</td>\n",
       "      <td>21.000000</td>\n",
       "    </tr>\n",
       "    <tr>\n",
       "      <th>mean</th>\n",
       "      <td>201.238095</td>\n",
       "      <td>1102.714286</td>\n",
       "      <td>768.428571</td>\n",
       "      <td>2072.380952</td>\n",
       "    </tr>\n",
       "    <tr>\n",
       "      <th>std</th>\n",
       "      <td>549.542346</td>\n",
       "      <td>2981.111775</td>\n",
       "      <td>2056.232394</td>\n",
       "      <td>5551.891979</td>\n",
       "    </tr>\n",
       "    <tr>\n",
       "      <th>min</th>\n",
       "      <td>0.000000</td>\n",
       "      <td>51.000000</td>\n",
       "      <td>39.000000</td>\n",
       "      <td>111.000000</td>\n",
       "    </tr>\n",
       "    <tr>\n",
       "      <th>25%</th>\n",
       "      <td>14.000000</td>\n",
       "      <td>92.000000</td>\n",
       "      <td>69.000000</td>\n",
       "      <td>190.000000</td>\n",
       "    </tr>\n",
       "    <tr>\n",
       "      <th>50%</th>\n",
       "      <td>31.000000</td>\n",
       "      <td>196.000000</td>\n",
       "      <td>179.000000</td>\n",
       "      <td>391.000000</td>\n",
       "    </tr>\n",
       "    <tr>\n",
       "      <th>75%</th>\n",
       "      <td>61.000000</td>\n",
       "      <td>405.000000</td>\n",
       "      <td>269.000000</td>\n",
       "      <td>894.000000</td>\n",
       "    </tr>\n",
       "    <tr>\n",
       "      <th>max</th>\n",
       "      <td>2531.000000</td>\n",
       "      <td>13081.000000</td>\n",
       "      <td>8860.000000</td>\n",
       "      <td>24472.000000</td>\n",
       "    </tr>\n",
       "  </tbody>\n",
       "</table>\n",
       "</div>"
      ],
      "text/plain": [
       "       TRANSITORIAS   TEMPORARIAS  PERMANENTES         TOTAL\n",
       "count     21.000000     21.000000    21.000000     21.000000\n",
       "mean     201.238095   1102.714286   768.428571   2072.380952\n",
       "std      549.542346   2981.111775  2056.232394   5551.891979\n",
       "min        0.000000     51.000000    39.000000    111.000000\n",
       "25%       14.000000     92.000000    69.000000    190.000000\n",
       "50%       31.000000    196.000000   179.000000    391.000000\n",
       "75%       61.000000    405.000000   269.000000    894.000000\n",
       "max     2531.000000  13081.000000  8860.000000  24472.000000"
      ]
     },
     "execution_count": 16,
     "metadata": {},
     "output_type": "execute_result"
    }
   ],
   "source": [
    "#Datos estadísticos de cada columna\n",
    "\n",
    "residencias_df.describe()"
   ]
  },
  {
   "cell_type": "code",
   "execution_count": 17,
   "metadata": {},
   "outputs": [
    {
     "data": {
      "text/html": [
       "<div>\n",
       "<style scoped>\n",
       "    .dataframe tbody tr th:only-of-type {\n",
       "        vertical-align: middle;\n",
       "    }\n",
       "\n",
       "    .dataframe tbody tr th {\n",
       "        vertical-align: top;\n",
       "    }\n",
       "\n",
       "    .dataframe thead th {\n",
       "        text-align: right;\n",
       "    }\n",
       "</style>\n",
       "<table border=\"1\" class=\"dataframe\">\n",
       "  <thead>\n",
       "    <tr style=\"text-align: right;\">\n",
       "      <th></th>\n",
       "      <th>PROVINCIA</th>\n",
       "      <th>TRANSITORIAS</th>\n",
       "      <th>TEMPORARIAS</th>\n",
       "      <th>PERMANENTES</th>\n",
       "      <th>TOTAL</th>\n",
       "    </tr>\n",
       "  </thead>\n",
       "  <tbody>\n",
       "    <tr>\n",
       "      <th>0</th>\n",
       "      <td>CIUDAD AUTONOMA DE BS AS</td>\n",
       "      <td>2531</td>\n",
       "      <td>13081</td>\n",
       "      <td>8860</td>\n",
       "      <td>24472</td>\n",
       "    </tr>\n",
       "  </tbody>\n",
       "</table>\n",
       "</div>"
      ],
      "text/plain": [
       "                  PROVINCIA  TRANSITORIAS  TEMPORARIAS  PERMANENTES  TOTAL\n",
       "0  CIUDAD AUTONOMA DE BS AS          2531        13081         8860  24472"
      ]
     },
     "execution_count": 17,
     "metadata": {},
     "output_type": "execute_result"
    }
   ],
   "source": [
    "#Reconociendo las provincias con valores máximos en distintos tipos de residencias \n",
    "\n",
    "#Transitorias\n",
    "\n",
    "residencias_df[residencias_df['TRANSITORIAS'] == 2531]"
   ]
  },
  {
   "cell_type": "code",
   "execution_count": 19,
   "metadata": {},
   "outputs": [
    {
     "data": {
      "text/html": [
       "<div>\n",
       "<style scoped>\n",
       "    .dataframe tbody tr th:only-of-type {\n",
       "        vertical-align: middle;\n",
       "    }\n",
       "\n",
       "    .dataframe tbody tr th {\n",
       "        vertical-align: top;\n",
       "    }\n",
       "\n",
       "    .dataframe thead th {\n",
       "        text-align: right;\n",
       "    }\n",
       "</style>\n",
       "<table border=\"1\" class=\"dataframe\">\n",
       "  <thead>\n",
       "    <tr style=\"text-align: right;\">\n",
       "      <th></th>\n",
       "      <th>PROVINCIA</th>\n",
       "      <th>TRANSITORIAS</th>\n",
       "      <th>TEMPORARIAS</th>\n",
       "      <th>PERMANENTES</th>\n",
       "      <th>TOTAL</th>\n",
       "    </tr>\n",
       "  </thead>\n",
       "  <tbody>\n",
       "    <tr>\n",
       "      <th>0</th>\n",
       "      <td>CIUDAD AUTONOMA DE BS AS</td>\n",
       "      <td>2531</td>\n",
       "      <td>13081</td>\n",
       "      <td>8860</td>\n",
       "      <td>24472</td>\n",
       "    </tr>\n",
       "  </tbody>\n",
       "</table>\n",
       "</div>"
      ],
      "text/plain": [
       "                  PROVINCIA  TRANSITORIAS  TEMPORARIAS  PERMANENTES  TOTAL\n",
       "0  CIUDAD AUTONOMA DE BS AS          2531        13081         8860  24472"
      ]
     },
     "execution_count": 19,
     "metadata": {},
     "output_type": "execute_result"
    }
   ],
   "source": [
    "#Temporarias \n",
    "\n",
    "residencias_df[residencias_df['TEMPORARIAS'] == 13081]"
   ]
  },
  {
   "cell_type": "code",
   "execution_count": 20,
   "metadata": {},
   "outputs": [
    {
     "data": {
      "text/html": [
       "<div>\n",
       "<style scoped>\n",
       "    .dataframe tbody tr th:only-of-type {\n",
       "        vertical-align: middle;\n",
       "    }\n",
       "\n",
       "    .dataframe tbody tr th {\n",
       "        vertical-align: top;\n",
       "    }\n",
       "\n",
       "    .dataframe thead th {\n",
       "        text-align: right;\n",
       "    }\n",
       "</style>\n",
       "<table border=\"1\" class=\"dataframe\">\n",
       "  <thead>\n",
       "    <tr style=\"text-align: right;\">\n",
       "      <th></th>\n",
       "      <th>PROVINCIA</th>\n",
       "      <th>TRANSITORIAS</th>\n",
       "      <th>TEMPORARIAS</th>\n",
       "      <th>PERMANENTES</th>\n",
       "      <th>TOTAL</th>\n",
       "    </tr>\n",
       "  </thead>\n",
       "  <tbody>\n",
       "    <tr>\n",
       "      <th>0</th>\n",
       "      <td>CIUDAD AUTONOMA DE BS AS</td>\n",
       "      <td>2531</td>\n",
       "      <td>13081</td>\n",
       "      <td>8860</td>\n",
       "      <td>24472</td>\n",
       "    </tr>\n",
       "  </tbody>\n",
       "</table>\n",
       "</div>"
      ],
      "text/plain": [
       "                  PROVINCIA  TRANSITORIAS  TEMPORARIAS  PERMANENTES  TOTAL\n",
       "0  CIUDAD AUTONOMA DE BS AS          2531        13081         8860  24472"
      ]
     },
     "execution_count": 20,
     "metadata": {},
     "output_type": "execute_result"
    }
   ],
   "source": [
    "#Permanentes \n",
    "\n",
    "residencias_df[residencias_df['PERMANENTES'] == 8860]"
   ]
  },
  {
   "cell_type": "code",
   "execution_count": 21,
   "metadata": {},
   "outputs": [
    {
     "data": {
      "text/html": [
       "<div>\n",
       "<style scoped>\n",
       "    .dataframe tbody tr th:only-of-type {\n",
       "        vertical-align: middle;\n",
       "    }\n",
       "\n",
       "    .dataframe tbody tr th {\n",
       "        vertical-align: top;\n",
       "    }\n",
       "\n",
       "    .dataframe thead th {\n",
       "        text-align: right;\n",
       "    }\n",
       "</style>\n",
       "<table border=\"1\" class=\"dataframe\">\n",
       "  <thead>\n",
       "    <tr style=\"text-align: right;\">\n",
       "      <th></th>\n",
       "      <th>PROVINCIA</th>\n",
       "      <th>TRANSITORIAS</th>\n",
       "      <th>TEMPORARIAS</th>\n",
       "      <th>PERMANENTES</th>\n",
       "      <th>TOTAL</th>\n",
       "    </tr>\n",
       "  </thead>\n",
       "  <tbody>\n",
       "    <tr>\n",
       "      <th>0</th>\n",
       "      <td>CIUDAD AUTONOMA DE BS AS</td>\n",
       "      <td>2531</td>\n",
       "      <td>13081</td>\n",
       "      <td>8860</td>\n",
       "      <td>24472</td>\n",
       "    </tr>\n",
       "    <tr>\n",
       "      <th>1</th>\n",
       "      <td>BUENOS AIRES</td>\n",
       "      <td>309</td>\n",
       "      <td>5502</td>\n",
       "      <td>4218</td>\n",
       "      <td>10029</td>\n",
       "    </tr>\n",
       "    <tr>\n",
       "      <th>2</th>\n",
       "      <td>CORDOBA</td>\n",
       "      <td>518</td>\n",
       "      <td>764</td>\n",
       "      <td>276</td>\n",
       "      <td>1558</td>\n",
       "    </tr>\n",
       "    <tr>\n",
       "      <th>3</th>\n",
       "      <td>MENDOZA</td>\n",
       "      <td>236</td>\n",
       "      <td>569</td>\n",
       "      <td>337</td>\n",
       "      <td>1142</td>\n",
       "    </tr>\n",
       "    <tr>\n",
       "      <th>5</th>\n",
       "      <td>SANTA FE</td>\n",
       "      <td>220</td>\n",
       "      <td>405</td>\n",
       "      <td>269</td>\n",
       "      <td>894</td>\n",
       "    </tr>\n",
       "  </tbody>\n",
       "</table>\n",
       "</div>"
      ],
      "text/plain": [
       "                  PROVINCIA  TRANSITORIAS  TEMPORARIAS  PERMANENTES  TOTAL\n",
       "0  CIUDAD AUTONOMA DE BS AS          2531        13081         8860  24472\n",
       "1              BUENOS AIRES           309         5502         4218  10029\n",
       "2                   CORDOBA           518          764          276   1558\n",
       "3                   MENDOZA           236          569          337   1142\n",
       "5                  SANTA FE           220          405          269    894"
      ]
     },
     "execution_count": 21,
     "metadata": {},
     "output_type": "execute_result"
    }
   ],
   "source": [
    "#Provincias que otorgan residencias por encima del promedio \n",
    "\n",
    "#Transitorias \n",
    "\n",
    "residencias_df[residencias_df['TRANSITORIAS'] > 201]"
   ]
  },
  {
   "cell_type": "code",
   "execution_count": 22,
   "metadata": {},
   "outputs": [
    {
     "data": {
      "text/html": [
       "<div>\n",
       "<style scoped>\n",
       "    .dataframe tbody tr th:only-of-type {\n",
       "        vertical-align: middle;\n",
       "    }\n",
       "\n",
       "    .dataframe tbody tr th {\n",
       "        vertical-align: top;\n",
       "    }\n",
       "\n",
       "    .dataframe thead th {\n",
       "        text-align: right;\n",
       "    }\n",
       "</style>\n",
       "<table border=\"1\" class=\"dataframe\">\n",
       "  <thead>\n",
       "    <tr style=\"text-align: right;\">\n",
       "      <th></th>\n",
       "      <th>PROVINCIA</th>\n",
       "      <th>TRANSITORIAS</th>\n",
       "      <th>TEMPORARIAS</th>\n",
       "      <th>PERMANENTES</th>\n",
       "      <th>TOTAL</th>\n",
       "    </tr>\n",
       "  </thead>\n",
       "  <tbody>\n",
       "    <tr>\n",
       "      <th>0</th>\n",
       "      <td>CIUDAD AUTONOMA DE BS AS</td>\n",
       "      <td>2531</td>\n",
       "      <td>13081</td>\n",
       "      <td>8860</td>\n",
       "      <td>24472</td>\n",
       "    </tr>\n",
       "    <tr>\n",
       "      <th>1</th>\n",
       "      <td>BUENOS AIRES</td>\n",
       "      <td>309</td>\n",
       "      <td>5502</td>\n",
       "      <td>4218</td>\n",
       "      <td>10029</td>\n",
       "    </tr>\n",
       "  </tbody>\n",
       "</table>\n",
       "</div>"
      ],
      "text/plain": [
       "                  PROVINCIA  TRANSITORIAS  TEMPORARIAS  PERMANENTES  TOTAL\n",
       "0  CIUDAD AUTONOMA DE BS AS          2531        13081         8860  24472\n",
       "1              BUENOS AIRES           309         5502         4218  10029"
      ]
     },
     "execution_count": 22,
     "metadata": {},
     "output_type": "execute_result"
    }
   ],
   "source": [
    "#Provincias que otorgan residencias por encima del promedio \n",
    "\n",
    "#Temporarias\n",
    "\n",
    "\n",
    "residencias_df[residencias_df['TEMPORARIAS'] > 1102]"
   ]
  },
  {
   "cell_type": "code",
   "execution_count": 23,
   "metadata": {},
   "outputs": [
    {
     "data": {
      "text/html": [
       "<div>\n",
       "<style scoped>\n",
       "    .dataframe tbody tr th:only-of-type {\n",
       "        vertical-align: middle;\n",
       "    }\n",
       "\n",
       "    .dataframe tbody tr th {\n",
       "        vertical-align: top;\n",
       "    }\n",
       "\n",
       "    .dataframe thead th {\n",
       "        text-align: right;\n",
       "    }\n",
       "</style>\n",
       "<table border=\"1\" class=\"dataframe\">\n",
       "  <thead>\n",
       "    <tr style=\"text-align: right;\">\n",
       "      <th></th>\n",
       "      <th>PROVINCIA</th>\n",
       "      <th>TRANSITORIAS</th>\n",
       "      <th>TEMPORARIAS</th>\n",
       "      <th>PERMANENTES</th>\n",
       "      <th>TOTAL</th>\n",
       "    </tr>\n",
       "  </thead>\n",
       "  <tbody>\n",
       "    <tr>\n",
       "      <th>0</th>\n",
       "      <td>CIUDAD AUTONOMA DE BS AS</td>\n",
       "      <td>2531</td>\n",
       "      <td>13081</td>\n",
       "      <td>8860</td>\n",
       "      <td>24472</td>\n",
       "    </tr>\n",
       "    <tr>\n",
       "      <th>1</th>\n",
       "      <td>BUENOS AIRES</td>\n",
       "      <td>309</td>\n",
       "      <td>5502</td>\n",
       "      <td>4218</td>\n",
       "      <td>10029</td>\n",
       "    </tr>\n",
       "  </tbody>\n",
       "</table>\n",
       "</div>"
      ],
      "text/plain": [
       "                  PROVINCIA  TRANSITORIAS  TEMPORARIAS  PERMANENTES  TOTAL\n",
       "0  CIUDAD AUTONOMA DE BS AS          2531        13081         8860  24472\n",
       "1              BUENOS AIRES           309         5502         4218  10029"
      ]
     },
     "execution_count": 23,
     "metadata": {},
     "output_type": "execute_result"
    }
   ],
   "source": [
    "#Provincias que otorgan residencias por encima del promedio \n",
    "\n",
    "#Permanentes\n",
    "\n",
    "residencias_df[residencias_df['PERMANENTES'] > 768]"
   ]
  },
  {
   "cell_type": "code",
   "execution_count": 28,
   "metadata": {},
   "outputs": [
    {
     "name": "stderr",
     "output_type": "stream",
     "text": [
      "UsageError: Line magic function `%` not found.\n"
     ]
    },
    {
     "data": {
      "image/png": "[encoded data removed]",
      "text/plain": [
       "<Figure size 432x288 with 1 Axes>"
      ]
     },
     "metadata": {
      "needs_background": "light"
     },
     "output_type": "display_data"
    }
   ],
   "source": [
    "residencias_df.boxplot()\n",
    "\n",
    "% matplotlib inline"
   ]
  },
  {
   "cell_type": "markdown",
   "metadata": {},
   "source": [
    "Podemos observar como la Ciudad Autónoma de Buenos Aires representa los outliers que se encuentran fuera de los parámetros estadísticos descriptivos de la muestra. \n",
    "\n",
    "Pero, al fin del objetivo del estudio, no podemos quitar a la Ciudad Autónoma de Buenos Aires."
   ]
  },
  {
   "cell_type": "code",
   "execution_count": 60,
   "metadata": {},
   "outputs": [
    {
     "data": {
      "text/html": [
       "<div>\n",
       "<style scoped>\n",
       "    .dataframe tbody tr th:only-of-type {\n",
       "        vertical-align: middle;\n",
       "    }\n",
       "\n",
       "    .dataframe tbody tr th {\n",
       "        vertical-align: top;\n",
       "    }\n",
       "\n",
       "    .dataframe thead th {\n",
       "        text-align: right;\n",
       "    }\n",
       "</style>\n",
       "<table border=\"1\" class=\"dataframe\">\n",
       "  <thead>\n",
       "    <tr style=\"text-align: right;\">\n",
       "      <th></th>\n",
       "      <th>PROVINCIA</th>\n",
       "      <th>TRANSITORIAS</th>\n",
       "      <th>TEMPORARIAS</th>\n",
       "      <th>PERMANENTES</th>\n",
       "      <th>TOTAL</th>\n",
       "    </tr>\n",
       "  </thead>\n",
       "  <tbody>\n",
       "    <tr>\n",
       "      <th>7</th>\n",
       "      <td>MISIONES</td>\n",
       "      <td>0</td>\n",
       "      <td>265</td>\n",
       "      <td>246</td>\n",
       "      <td>511</td>\n",
       "    </tr>\n",
       "  </tbody>\n",
       "</table>\n",
       "</div>"
      ],
      "text/plain": [
       "  PROVINCIA  TRANSITORIAS  TEMPORARIAS  PERMANENTES  TOTAL\n",
       "7  MISIONES             0          265          246    511"
      ]
     },
     "execution_count": 60,
     "metadata": {},
     "output_type": "execute_result"
    }
   ],
   "source": [
    "#Identificamos la provincia con menor cantidad de residencias transitorias\n",
    "\n",
    "residencias_df[residencias_df['TRANSITORIAS'] == 0]\n",
    "\n"
   ]
  },
  {
   "cell_type": "code",
   "execution_count": 61,
   "metadata": {},
   "outputs": [
    {
     "data": {
      "text/html": [
       "<div>\n",
       "<style scoped>\n",
       "    .dataframe tbody tr th:only-of-type {\n",
       "        vertical-align: middle;\n",
       "    }\n",
       "\n",
       "    .dataframe tbody tr th {\n",
       "        vertical-align: top;\n",
       "    }\n",
       "\n",
       "    .dataframe thead th {\n",
       "        text-align: right;\n",
       "    }\n",
       "</style>\n",
       "<table border=\"1\" class=\"dataframe\">\n",
       "  <thead>\n",
       "    <tr style=\"text-align: right;\">\n",
       "      <th></th>\n",
       "      <th>PROVINCIA</th>\n",
       "      <th>TRANSITORIAS</th>\n",
       "      <th>TEMPORARIAS</th>\n",
       "      <th>PERMANENTES</th>\n",
       "      <th>TOTAL</th>\n",
       "    </tr>\n",
       "  </thead>\n",
       "  <tbody>\n",
       "    <tr>\n",
       "      <th>19</th>\n",
       "      <td>SANTA CRUZ</td>\n",
       "      <td>8</td>\n",
       "      <td>51</td>\n",
       "      <td>55</td>\n",
       "      <td>114</td>\n",
       "    </tr>\n",
       "  </tbody>\n",
       "</table>\n",
       "</div>"
      ],
      "text/plain": [
       "     PROVINCIA  TRANSITORIAS  TEMPORARIAS  PERMANENTES  TOTAL\n",
       "19  SANTA CRUZ             8           51           55    114"
      ]
     },
     "execution_count": 61,
     "metadata": {},
     "output_type": "execute_result"
    }
   ],
   "source": [
    "#Identificamos la provincia con menor cantidad de residencias temporarias\n",
    "\n",
    "residencias_df[residencias_df['TEMPORARIAS'] == 51]"
   ]
  },
  {
   "cell_type": "code",
   "execution_count": 62,
   "metadata": {},
   "outputs": [
    {
     "data": {
      "text/html": [
       "<div>\n",
       "<style scoped>\n",
       "    .dataframe tbody tr th:only-of-type {\n",
       "        vertical-align: middle;\n",
       "    }\n",
       "\n",
       "    .dataframe tbody tr th {\n",
       "        vertical-align: top;\n",
       "    }\n",
       "\n",
       "    .dataframe thead th {\n",
       "        text-align: right;\n",
       "    }\n",
       "</style>\n",
       "<table border=\"1\" class=\"dataframe\">\n",
       "  <thead>\n",
       "    <tr style=\"text-align: right;\">\n",
       "      <th></th>\n",
       "      <th>PROVINCIA</th>\n",
       "      <th>TRANSITORIAS</th>\n",
       "      <th>TEMPORARIAS</th>\n",
       "      <th>PERMANENTES</th>\n",
       "      <th>TOTAL</th>\n",
       "    </tr>\n",
       "  </thead>\n",
       "  <tbody>\n",
       "    <tr>\n",
       "      <th>20</th>\n",
       "      <td>SAN LUIS</td>\n",
       "      <td>7</td>\n",
       "      <td>65</td>\n",
       "      <td>39</td>\n",
       "      <td>111</td>\n",
       "    </tr>\n",
       "  </tbody>\n",
       "</table>\n",
       "</div>"
      ],
      "text/plain": [
       "   PROVINCIA  TRANSITORIAS  TEMPORARIAS  PERMANENTES  TOTAL\n",
       "20  SAN LUIS             7           65           39    111"
      ]
     },
     "execution_count": 62,
     "metadata": {},
     "output_type": "execute_result"
    }
   ],
   "source": [
    "#Identificamos la provincia con menor cantidad de residencias permanentes \n",
    "\n",
    "residencias_df[residencias_df['PERMANENTES'] == 39]"
   ]
  },
  {
   "cell_type": "code",
   "execution_count": null,
   "metadata": {},
   "outputs": [],
   "source": []
  }
 ],
 "metadata": {
  "kernelspec": {
   "display_name": "Python 3",
   "language": "python",
   "name": "python3"
  },
  "language_info": {
   "codemirror_mode": {
    "name": "ipython",
    "version": 3
   },
   "file_extension": ".py",
   "mimetype": "text/x-python",
   "name": "python",
   "nbconvert_exporter": "python",
   "pygments_lexer": "ipython3",
   "version": "3.7.3"
  }
 },
 "nbformat": 4,
 "nbformat_minor": 2
}
